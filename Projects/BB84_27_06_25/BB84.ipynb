{
 "cells": [
  {
   "cell_type": "markdown",
   "id": "d9c08671",
   "metadata": {},
   "source": [
    "##BB84 Implementation\n"
   ]
  },
  {
   "cell_type": "code",
   "execution_count": 107,
   "id": "d7c597ae",
   "metadata": {},
   "outputs": [],
   "source": [
    "from qiskit_aer import AerSimulator,Aer\n",
    "from qiskit import QuantumCircuit,QuantumRegister,ClassicalRegister,transpile\n",
    "from qiskit.visualization import plot_histogram\n",
    "from qiskit.quantum_info import Statevector\n",
    "from numpy import random"
   ]
  },
  {
   "cell_type": "code",
   "execution_count": 108,
   "id": "a9806df0",
   "metadata": {},
   "outputs": [],
   "source": [
    "def random_bit_generator(n):\n",
    "    return [str(random.randint(0,2)) for _ in range(n)]"
   ]
  },
  {
   "cell_type": "code",
   "execution_count": 109,
   "id": "5928cf3a",
   "metadata": {},
   "outputs": [],
   "source": [
    "def random_basis(n):\n",
    "    return [random.choice([\"X\",\"Z\"]) for _ in range(n)]\n",
    "    "
   ]
  },
  {
   "cell_type": "code",
   "execution_count": 110,
   "id": "6a593906",
   "metadata": {},
   "outputs": [],
   "source": [
    "#Step 1: Generating basis and bits\n",
    "n=12\n",
    "Alice_bits=random_bit_generator(n)\n",
    "Alice_base=random_basis(n)\n",
    "qc=QuantumCircuit(n,n)\n",
    "\n",
    "#Eve's Eavedropping\n",
    "Eve_base=random_basis(n)\n",
    "\n",
    "\n",
    "#Bobs measurement basis\n",
    "Bob_base=random_basis(n)\n",
    "#Step 2: Encoding bits\n",
    "for i in range(len(Alice_bits)):\n",
    "    if Alice_bits[i]==\"1\":\n",
    "        qc.x(i)\n",
    "    if Alice_base[i]==\"X\":\n",
    "         qc.h(i)\n",
    "qc.barrier()\n",
    "\n",
    "#Creates copy of circuit\n",
    "Eveqc=QuantumCircuit(n,n)\n",
    "Eveqc.data=qc[:]\n",
    "#Eve's measurement\n",
    "for i in range(len(Eve_base)):\n",
    "    if Eve_base[i]==\"X\":\n",
    "        Eveqc.h(i)\n",
    "    Eveqc.measure(i,i)\n",
    "\n",
    "\n",
    "\n",
    "#Runs the circuit\n",
    "sim=AerSimulator()\n",
    "compliled=transpile(Eveqc,sim)\n",
    "\n",
    "result=sim.run(compliled,shots=1).result()\n",
    "stats=result.get_counts()\n",
    "Eve_bits=list(stats.most_frequent())\n",
    "Eve_bits=list(reversed(Eve_bits))\n",
    "\n",
    "\n",
    "#New Circuit for Bob\n",
    "qc2=QuantumCircuit(n,n)\n",
    "#Rencoding bits\n",
    "for i in range(len(Eve_bits)):\n",
    "    if Eve_bits[i]==\"1\":\n",
    "        qc2.x(i)\n",
    "    if Eve_base[i]==\"X\":\n",
    "         qc2.h(i)\n",
    "qc2.barrier()\n",
    "\n",
    "\n",
    "\n",
    "\n",
    "\n",
    "#Step 3:Bob measurement\n",
    "for i in range(len(Bob_base)):\n",
    "    if Bob_base[i]==\"X\":\n",
    "        qc2.h(i)\n",
    "    qc2.measure(i,i)\n",
    "#qc.draw(\"mpl\")\n"
   ]
  },
  {
   "cell_type": "code",
   "execution_count": 111,
   "id": "3cf78641",
   "metadata": {},
   "outputs": [],
   "source": [
    "sim=AerSimulator()\n",
    "compliled=transpile(qc2,sim)\n",
    "\n",
    "result=sim.run(compliled,shots=1).result()\n",
    "stats=result.get_counts()\n",
    "measured_bits=list(stats.most_frequent())\n",
    "measured_bits=list(reversed(measured_bits))\n",
    "\n",
    "\n"
   ]
  },
  {
   "cell_type": "code",
   "execution_count": 112,
   "id": "ac8af3e7",
   "metadata": {},
   "outputs": [
    {
     "name": "stdout",
     "output_type": "stream",
     "text": [
      "[1, 2, 3, 4, 8, 9, 10, 11]\n",
      "[0, 3, 4, 7, 8, 9, 10, 11]\n",
      "['1', '0', '0', '1', '0', '0', '1', '1']\n",
      "['1', '1', '0', '1', '0', '0', '1', '1']\n",
      "['0', '0', '1', '0', '0', '0', '1', '1']\n"
     ]
    }
   ],
   "source": [
    "matchingE=[i for i in range(n) if Alice_base[i]==Eve_base[i]]\n",
    "Eve_key=[Eve_bits[i] for i in matchingE]\n",
    "matching=[i for i in range(n) if Alice_base[i]==Bob_base[i]]\n",
    "Alice_key=[Alice_bits[i] for i in matching]\n",
    "Bob_key=[measured_bits[i] for i in matching]\n",
    "\n",
    "print(matching)\n",
    "print(matchingE)\n",
    "print(Alice_key)\n",
    "print(Bob_key)\n",
    "print(Eve_key)\n"
   ]
  },
  {
   "cell_type": "code",
   "execution_count": 113,
   "id": "f416badb",
   "metadata": {},
   "outputs": [],
   "source": [
    "#To check running circuits multiple times\n",
    "\n",
    "def run_bb84_with_eve(n=12):\n",
    "    # Step 1: Generate random bits and bases\n",
    "    Alice_bits = random_bit_generator(n)\n",
    "    Alice_base = random_basis(n)\n",
    "    Eve_base = random_basis(n)\n",
    "    Bob_base = random_basis(n)\n",
    "\n",
    "    # Alice encodes her bits\n",
    "    qc = QuantumCircuit(n, n)\n",
    "    for i in range(n):\n",
    "        if Alice_bits[i] == \"1\":\n",
    "            qc.x(i)\n",
    "        if Alice_base[i] == \"X\":\n",
    "            qc.h(i)\n",
    "    qc.barrier()\n",
    "\n",
    "    # Eve intercepts and measures\n",
    "    Eveqc = QuantumCircuit(n, n)\n",
    "    Eveqc.data = qc[:]\n",
    "    for i in range(n):\n",
    "        if Eve_base[i] == \"X\":\n",
    "            Eveqc.h(i)\n",
    "        Eveqc.measure(i, i)\n",
    "    sim = AerSimulator()\n",
    "    compliled = transpile(Eveqc, sim)\n",
    "    result = sim.run(compliled, shots=1).result()\n",
    "    stats = result.get_counts()\n",
    "    Eve_bits = list(stats.most_frequent())\n",
    "    Eve_bits = list(reversed(Eve_bits))\n",
    "\n",
    "    # Bob receives and measures\n",
    "    qc2 = QuantumCircuit(n, n)\n",
    "    for i in range(n):\n",
    "        if Eve_bits[i] == \"1\":\n",
    "            qc2.x(i)\n",
    "        if Eve_base[i] == \"X\":\n",
    "            qc2.h(i)\n",
    "    qc2.barrier()\n",
    "    for i in range(n):\n",
    "        if Bob_base[i] == \"X\":\n",
    "            qc2.h(i)\n",
    "        qc2.measure(i, i)\n",
    "    compliled = transpile(qc2, sim)\n",
    "    result = sim.run(compliled, shots=1).result()\n",
    "    stats = result.get_counts()\n",
    "    measured_bits = list(stats.most_frequent())\n",
    "    measured_bits = list(reversed(measured_bits))\n",
    "\n",
    "    # Key sifting\n",
    "    matchingE = [i for i in range(n) if Alice_base[i] == Eve_base[i]]\n",
    "    Eve_key = [Eve_bits[i] for i in matchingE]\n",
    "    matching = [i for i in range(n) if Alice_base[i] == Bob_base[i]]\n",
    "    Alice_key = [Alice_bits[i] for i in matching]\n",
    "    Bob_key = [measured_bits[i] for i in matching]\n",
    "\n",
    "    return {\n",
    "        \"Alice_bits\": Alice_bits,\n",
    "        \"Alice_base\": Alice_base,\n",
    "        \"Eve_base\": Eve_base,\n",
    "        \"Bob_base\": Bob_base,\n",
    "        \"Eve_bits\": Eve_bits,\n",
    "        \"measured_bits\": measured_bits,\n",
    "        \"matching\": matching,\n",
    "        \"matchingE\": matchingE,\n",
    "        \"Alice_key\": Alice_key,\n",
    "        \"Bob_key\": Bob_key,\n",
    "        \"Eve_key\": Eve_key\n",
    "    }"
   ]
  },
  {
   "cell_type": "code",
   "execution_count": 114,
   "id": "69f3386b",
   "metadata": {},
   "outputs": [
    {
     "name": "stdout",
     "output_type": "stream",
     "text": [
      "Average error rate over 10 runs: 24.10%\n",
      "Calculated error is more than threshold(10%), so the keys are not secure.\n"
     ]
    }
   ],
   "source": [
    "edata=[]\n",
    "for _ in range(10):\n",
    "    ecount=0\n",
    "    result = run_bb84_with_eve(12)\n",
    "    resA=result[\"Alice_key\"]\n",
    "    resB=result[\"Bob_key\"]\n",
    "    resE=result[\"Eve_key\"]\n",
    "    '''\n",
    "    print(\"Alice's key:\", resA)\n",
    "    print(\"Bob's key:\", resB)\n",
    "    print(\"Eve's key:\", resE) '''\n",
    "    for i in range(len(resA)):\n",
    "        if resA[i] != resB[i]:\n",
    "            ecount+=1\n",
    "    edata.append(ecount/len(resA) * 100)  # Calculate error rate as a percentage\n",
    "avgError = sum(edata) / len(edata)\n",
    "print(f\"Average error rate over 10 runs: {avgError:.2f}%\")\n",
    "print(\"Calculated error is more than threshold(10%), so the keys are not secure.\" if avgError > 10 else \"Calculated error is within threshold(10%), so the keys are secure.\")"
   ]
  }
 ],
 "metadata": {
  "kernelspec": {
   "display_name": "base",
   "language": "python",
   "name": "python3"
  },
  "language_info": {
   "codemirror_mode": {
    "name": "ipython",
    "version": 3
   },
   "file_extension": ".py",
   "mimetype": "text/x-python",
   "name": "python",
   "nbconvert_exporter": "python",
   "pygments_lexer": "ipython3",
   "version": "3.13.2"
  }
 },
 "nbformat": 4,
 "nbformat_minor": 5
}
